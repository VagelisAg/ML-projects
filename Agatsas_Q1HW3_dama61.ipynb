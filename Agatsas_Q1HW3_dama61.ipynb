{
 "cells": [
  {
   "cell_type": "markdown",
   "id": "161c8018",
   "metadata": {},
   "source": [
    "1)"
   ]
  },
  {
   "cell_type": "code",
   "execution_count": 1,
   "id": "d2635f85",
   "metadata": {},
   "outputs": [],
   "source": [
    "import numpy as np\n",
    "from sklearn.datasets import fetch_openml\n",
    "from sklearn.model_selection import train_test_split"
   ]
  },
  {
   "cell_type": "code",
   "execution_count": 2,
   "id": "de614327",
   "metadata": {},
   "outputs": [
    {
     "name": "stderr",
     "output_type": "stream",
     "text": [
      "C:\\Users\\vagelis\\anaconda3\\Lib\\site-packages\\sklearn\\datasets\\_openml.py:1002: FutureWarning: The default value of `parser` will change from `'liac-arff'` to `'auto'` in 1.4. You can set `parser='auto'` to silence this warning. Therefore, an `ImportError` will be raised from 1.4 if the dataset is dense and pandas is not installed. Note that the pandas parser may return different data types. See the Notes Section in fetch_openml's API doc for details.\n",
      "  warn(\n"
     ]
    }
   ],
   "source": [
    "mnist = fetch_openml('mnist_784', as_frame=False)\n",
    "X, y = mnist.data, mnist.target"
   ]
  },
  {
   "cell_type": "code",
   "execution_count": 3,
   "id": "7ac95bb6",
   "metadata": {},
   "outputs": [],
   "source": [
    "y = y.astype(np.int64)"
   ]
  },
  {
   "cell_type": "code",
   "execution_count": 4,
   "id": "fbe5b97c",
   "metadata": {},
   "outputs": [],
   "source": [
    "X_train_full, X_test_full, y_train_full, y_test_full = train_test_split(X, y, test_size=0.2, stratify=y, random_state=42)"
   ]
  },
  {
   "cell_type": "code",
   "execution_count": 5,
   "id": "51010c11",
   "metadata": {},
   "outputs": [],
   "source": [
    "X_train, y_train = X_train_full[:10000], y_train_full[:10000]\n",
    "X_test, y_test = X_test_full[:2000], y_test_full[:2000]"
   ]
  },
  {
   "cell_type": "code",
   "execution_count": 6,
   "id": "0f070ed8",
   "metadata": {},
   "outputs": [
    {
     "name": "stdout",
     "output_type": "stream",
     "text": [
      "Training set shape: (10000, 784) (10000,)\n",
      "Test set shape: (2000, 784) (2000,)\n"
     ]
    }
   ],
   "source": [
    "print(\"Training set shape:\", X_train.shape, y_train.shape)\n",
    "print(\"Test set shape:\", X_test.shape, y_test.shape)"
   ]
  },
  {
   "cell_type": "markdown",
   "id": "25176c2a",
   "metadata": {},
   "source": [
    "2)"
   ]
  },
  {
   "cell_type": "code",
   "execution_count": 7,
   "id": "d83a2e64",
   "metadata": {},
   "outputs": [],
   "source": [
    "from sklearn.tree import DecisionTreeClassifier\n",
    "from sklearn.model_selection import GridSearchCV\n",
    "from sklearn.metrics import accuracy_score, f1_score"
   ]
  },
  {
   "cell_type": "code",
   "execution_count": 8,
   "id": "748f0b26",
   "metadata": {},
   "outputs": [],
   "source": [
    "parameters = {'max_features': [100, 150, 200],\n",
    "              'max_depth': [2, 4, 5]}\n",
    "regressor = DecisionTreeClassifier(criterion='entropy', random_state=42)"
   ]
  },
  {
   "cell_type": "code",
   "execution_count": 9,
   "id": "7d557a49",
   "metadata": {},
   "outputs": [],
   "source": [
    "gs= GridSearchCV(regressor, parameters,scoring='accuracy')"
   ]
  },
  {
   "cell_type": "code",
   "execution_count": 10,
   "id": "1318bbd5",
   "metadata": {},
   "outputs": [
    {
     "data": {
      "text/html": [
       "<style>#sk-container-id-1 {color: black;}#sk-container-id-1 pre{padding: 0;}#sk-container-id-1 div.sk-toggleable {background-color: white;}#sk-container-id-1 label.sk-toggleable__label {cursor: pointer;display: block;width: 100%;margin-bottom: 0;padding: 0.3em;box-sizing: border-box;text-align: center;}#sk-container-id-1 label.sk-toggleable__label-arrow:before {content: \"▸\";float: left;margin-right: 0.25em;color: #696969;}#sk-container-id-1 label.sk-toggleable__label-arrow:hover:before {color: black;}#sk-container-id-1 div.sk-estimator:hover label.sk-toggleable__label-arrow:before {color: black;}#sk-container-id-1 div.sk-toggleable__content {max-height: 0;max-width: 0;overflow: hidden;text-align: left;background-color: #f0f8ff;}#sk-container-id-1 div.sk-toggleable__content pre {margin: 0.2em;color: black;border-radius: 0.25em;background-color: #f0f8ff;}#sk-container-id-1 input.sk-toggleable__control:checked~div.sk-toggleable__content {max-height: 200px;max-width: 100%;overflow: auto;}#sk-container-id-1 input.sk-toggleable__control:checked~label.sk-toggleable__label-arrow:before {content: \"▾\";}#sk-container-id-1 div.sk-estimator input.sk-toggleable__control:checked~label.sk-toggleable__label {background-color: #d4ebff;}#sk-container-id-1 div.sk-label input.sk-toggleable__control:checked~label.sk-toggleable__label {background-color: #d4ebff;}#sk-container-id-1 input.sk-hidden--visually {border: 0;clip: rect(1px 1px 1px 1px);clip: rect(1px, 1px, 1px, 1px);height: 1px;margin: -1px;overflow: hidden;padding: 0;position: absolute;width: 1px;}#sk-container-id-1 div.sk-estimator {font-family: monospace;background-color: #f0f8ff;border: 1px dotted black;border-radius: 0.25em;box-sizing: border-box;margin-bottom: 0.5em;}#sk-container-id-1 div.sk-estimator:hover {background-color: #d4ebff;}#sk-container-id-1 div.sk-parallel-item::after {content: \"\";width: 100%;border-bottom: 1px solid gray;flex-grow: 1;}#sk-container-id-1 div.sk-label:hover label.sk-toggleable__label {background-color: #d4ebff;}#sk-container-id-1 div.sk-serial::before {content: \"\";position: absolute;border-left: 1px solid gray;box-sizing: border-box;top: 0;bottom: 0;left: 50%;z-index: 0;}#sk-container-id-1 div.sk-serial {display: flex;flex-direction: column;align-items: center;background-color: white;padding-right: 0.2em;padding-left: 0.2em;position: relative;}#sk-container-id-1 div.sk-item {position: relative;z-index: 1;}#sk-container-id-1 div.sk-parallel {display: flex;align-items: stretch;justify-content: center;background-color: white;position: relative;}#sk-container-id-1 div.sk-item::before, #sk-container-id-1 div.sk-parallel-item::before {content: \"\";position: absolute;border-left: 1px solid gray;box-sizing: border-box;top: 0;bottom: 0;left: 50%;z-index: -1;}#sk-container-id-1 div.sk-parallel-item {display: flex;flex-direction: column;z-index: 1;position: relative;background-color: white;}#sk-container-id-1 div.sk-parallel-item:first-child::after {align-self: flex-end;width: 50%;}#sk-container-id-1 div.sk-parallel-item:last-child::after {align-self: flex-start;width: 50%;}#sk-container-id-1 div.sk-parallel-item:only-child::after {width: 0;}#sk-container-id-1 div.sk-dashed-wrapped {border: 1px dashed gray;margin: 0 0.4em 0.5em 0.4em;box-sizing: border-box;padding-bottom: 0.4em;background-color: white;}#sk-container-id-1 div.sk-label label {font-family: monospace;font-weight: bold;display: inline-block;line-height: 1.2em;}#sk-container-id-1 div.sk-label-container {text-align: center;}#sk-container-id-1 div.sk-container {/* jupyter's `normalize.less` sets `[hidden] { display: none; }` but bootstrap.min.css set `[hidden] { display: none !important; }` so we also need the `!important` here to be able to override the default hidden behavior on the sphinx rendered scikit-learn.org. See: https://github.com/scikit-learn/scikit-learn/issues/21755 */display: inline-block !important;position: relative;}#sk-container-id-1 div.sk-text-repr-fallback {display: none;}</style><div id=\"sk-container-id-1\" class=\"sk-top-container\"><div class=\"sk-text-repr-fallback\"><pre>GridSearchCV(estimator=DecisionTreeClassifier(criterion=&#x27;entropy&#x27;,\n",
       "                                              random_state=42),\n",
       "             param_grid={&#x27;max_depth&#x27;: [2, 4, 5],\n",
       "                         &#x27;max_features&#x27;: [100, 150, 200]},\n",
       "             scoring=&#x27;accuracy&#x27;)</pre><b>In a Jupyter environment, please rerun this cell to show the HTML representation or trust the notebook. <br />On GitHub, the HTML representation is unable to render, please try loading this page with nbviewer.org.</b></div><div class=\"sk-container\" hidden><div class=\"sk-item sk-dashed-wrapped\"><div class=\"sk-label-container\"><div class=\"sk-label sk-toggleable\"><input class=\"sk-toggleable__control sk-hidden--visually\" id=\"sk-estimator-id-1\" type=\"checkbox\" ><label for=\"sk-estimator-id-1\" class=\"sk-toggleable__label sk-toggleable__label-arrow\">GridSearchCV</label><div class=\"sk-toggleable__content\"><pre>GridSearchCV(estimator=DecisionTreeClassifier(criterion=&#x27;entropy&#x27;,\n",
       "                                              random_state=42),\n",
       "             param_grid={&#x27;max_depth&#x27;: [2, 4, 5],\n",
       "                         &#x27;max_features&#x27;: [100, 150, 200]},\n",
       "             scoring=&#x27;accuracy&#x27;)</pre></div></div></div><div class=\"sk-parallel\"><div class=\"sk-parallel-item\"><div class=\"sk-item\"><div class=\"sk-label-container\"><div class=\"sk-label sk-toggleable\"><input class=\"sk-toggleable__control sk-hidden--visually\" id=\"sk-estimator-id-2\" type=\"checkbox\" ><label for=\"sk-estimator-id-2\" class=\"sk-toggleable__label sk-toggleable__label-arrow\">estimator: DecisionTreeClassifier</label><div class=\"sk-toggleable__content\"><pre>DecisionTreeClassifier(criterion=&#x27;entropy&#x27;, random_state=42)</pre></div></div></div><div class=\"sk-serial\"><div class=\"sk-item\"><div class=\"sk-estimator sk-toggleable\"><input class=\"sk-toggleable__control sk-hidden--visually\" id=\"sk-estimator-id-3\" type=\"checkbox\" ><label for=\"sk-estimator-id-3\" class=\"sk-toggleable__label sk-toggleable__label-arrow\">DecisionTreeClassifier</label><div class=\"sk-toggleable__content\"><pre>DecisionTreeClassifier(criterion=&#x27;entropy&#x27;, random_state=42)</pre></div></div></div></div></div></div></div></div></div></div>"
      ],
      "text/plain": [
       "GridSearchCV(estimator=DecisionTreeClassifier(criterion='entropy',\n",
       "                                              random_state=42),\n",
       "             param_grid={'max_depth': [2, 4, 5],\n",
       "                         'max_features': [100, 150, 200]},\n",
       "             scoring='accuracy')"
      ]
     },
     "execution_count": 10,
     "metadata": {},
     "output_type": "execute_result"
    }
   ],
   "source": [
    "gs.fit(X_train, y_train)"
   ]
  },
  {
   "cell_type": "code",
   "execution_count": 11,
   "id": "b62ec98d",
   "metadata": {},
   "outputs": [
    {
     "data": {
      "text/html": [
       "<style>#sk-container-id-2 {color: black;}#sk-container-id-2 pre{padding: 0;}#sk-container-id-2 div.sk-toggleable {background-color: white;}#sk-container-id-2 label.sk-toggleable__label {cursor: pointer;display: block;width: 100%;margin-bottom: 0;padding: 0.3em;box-sizing: border-box;text-align: center;}#sk-container-id-2 label.sk-toggleable__label-arrow:before {content: \"▸\";float: left;margin-right: 0.25em;color: #696969;}#sk-container-id-2 label.sk-toggleable__label-arrow:hover:before {color: black;}#sk-container-id-2 div.sk-estimator:hover label.sk-toggleable__label-arrow:before {color: black;}#sk-container-id-2 div.sk-toggleable__content {max-height: 0;max-width: 0;overflow: hidden;text-align: left;background-color: #f0f8ff;}#sk-container-id-2 div.sk-toggleable__content pre {margin: 0.2em;color: black;border-radius: 0.25em;background-color: #f0f8ff;}#sk-container-id-2 input.sk-toggleable__control:checked~div.sk-toggleable__content {max-height: 200px;max-width: 100%;overflow: auto;}#sk-container-id-2 input.sk-toggleable__control:checked~label.sk-toggleable__label-arrow:before {content: \"▾\";}#sk-container-id-2 div.sk-estimator input.sk-toggleable__control:checked~label.sk-toggleable__label {background-color: #d4ebff;}#sk-container-id-2 div.sk-label input.sk-toggleable__control:checked~label.sk-toggleable__label {background-color: #d4ebff;}#sk-container-id-2 input.sk-hidden--visually {border: 0;clip: rect(1px 1px 1px 1px);clip: rect(1px, 1px, 1px, 1px);height: 1px;margin: -1px;overflow: hidden;padding: 0;position: absolute;width: 1px;}#sk-container-id-2 div.sk-estimator {font-family: monospace;background-color: #f0f8ff;border: 1px dotted black;border-radius: 0.25em;box-sizing: border-box;margin-bottom: 0.5em;}#sk-container-id-2 div.sk-estimator:hover {background-color: #d4ebff;}#sk-container-id-2 div.sk-parallel-item::after {content: \"\";width: 100%;border-bottom: 1px solid gray;flex-grow: 1;}#sk-container-id-2 div.sk-label:hover label.sk-toggleable__label {background-color: #d4ebff;}#sk-container-id-2 div.sk-serial::before {content: \"\";position: absolute;border-left: 1px solid gray;box-sizing: border-box;top: 0;bottom: 0;left: 50%;z-index: 0;}#sk-container-id-2 div.sk-serial {display: flex;flex-direction: column;align-items: center;background-color: white;padding-right: 0.2em;padding-left: 0.2em;position: relative;}#sk-container-id-2 div.sk-item {position: relative;z-index: 1;}#sk-container-id-2 div.sk-parallel {display: flex;align-items: stretch;justify-content: center;background-color: white;position: relative;}#sk-container-id-2 div.sk-item::before, #sk-container-id-2 div.sk-parallel-item::before {content: \"\";position: absolute;border-left: 1px solid gray;box-sizing: border-box;top: 0;bottom: 0;left: 50%;z-index: -1;}#sk-container-id-2 div.sk-parallel-item {display: flex;flex-direction: column;z-index: 1;position: relative;background-color: white;}#sk-container-id-2 div.sk-parallel-item:first-child::after {align-self: flex-end;width: 50%;}#sk-container-id-2 div.sk-parallel-item:last-child::after {align-self: flex-start;width: 50%;}#sk-container-id-2 div.sk-parallel-item:only-child::after {width: 0;}#sk-container-id-2 div.sk-dashed-wrapped {border: 1px dashed gray;margin: 0 0.4em 0.5em 0.4em;box-sizing: border-box;padding-bottom: 0.4em;background-color: white;}#sk-container-id-2 div.sk-label label {font-family: monospace;font-weight: bold;display: inline-block;line-height: 1.2em;}#sk-container-id-2 div.sk-label-container {text-align: center;}#sk-container-id-2 div.sk-container {/* jupyter's `normalize.less` sets `[hidden] { display: none; }` but bootstrap.min.css set `[hidden] { display: none !important; }` so we also need the `!important` here to be able to override the default hidden behavior on the sphinx rendered scikit-learn.org. See: https://github.com/scikit-learn/scikit-learn/issues/21755 */display: inline-block !important;position: relative;}#sk-container-id-2 div.sk-text-repr-fallback {display: none;}</style><div id=\"sk-container-id-2\" class=\"sk-top-container\"><div class=\"sk-text-repr-fallback\"><pre>DecisionTreeClassifier(criterion=&#x27;entropy&#x27;, max_depth=5, max_features=150,\n",
       "                       random_state=42)</pre><b>In a Jupyter environment, please rerun this cell to show the HTML representation or trust the notebook. <br />On GitHub, the HTML representation is unable to render, please try loading this page with nbviewer.org.</b></div><div class=\"sk-container\" hidden><div class=\"sk-item\"><div class=\"sk-estimator sk-toggleable\"><input class=\"sk-toggleable__control sk-hidden--visually\" id=\"sk-estimator-id-4\" type=\"checkbox\" checked><label for=\"sk-estimator-id-4\" class=\"sk-toggleable__label sk-toggleable__label-arrow\">DecisionTreeClassifier</label><div class=\"sk-toggleable__content\"><pre>DecisionTreeClassifier(criterion=&#x27;entropy&#x27;, max_depth=5, max_features=150,\n",
       "                       random_state=42)</pre></div></div></div></div></div>"
      ],
      "text/plain": [
       "DecisionTreeClassifier(criterion='entropy', max_depth=5, max_features=150,\n",
       "                       random_state=42)"
      ]
     },
     "execution_count": 11,
     "metadata": {},
     "output_type": "execute_result"
    }
   ],
   "source": [
    "best_estimator = gs.best_estimator_;best_estimator"
   ]
  },
  {
   "cell_type": "code",
   "execution_count": 12,
   "id": "10fb6ff3",
   "metadata": {},
   "outputs": [
    {
     "data": {
      "text/plain": [
       "{'max_depth': 5, 'max_features': 150}"
      ]
     },
     "execution_count": 12,
     "metadata": {},
     "output_type": "execute_result"
    }
   ],
   "source": [
    "best_params = gs.best_params_;best_params"
   ]
  },
  {
   "cell_type": "code",
   "execution_count": 13,
   "id": "d399e3d3",
   "metadata": {},
   "outputs": [],
   "source": [
    "y_pred = best_estimator.predict(X_test)"
   ]
  },
  {
   "cell_type": "code",
   "execution_count": 14,
   "id": "b1a87b1e",
   "metadata": {},
   "outputs": [],
   "source": [
    "accuracy = accuracy_score(y_test, y_pred)"
   ]
  },
  {
   "cell_type": "code",
   "execution_count": 15,
   "id": "de6dd880",
   "metadata": {},
   "outputs": [],
   "source": [
    "f1 = f1_score(y_test, y_pred, average='macro')"
   ]
  },
  {
   "cell_type": "code",
   "execution_count": 16,
   "id": "f13c00ae",
   "metadata": {},
   "outputs": [
    {
     "name": "stdout",
     "output_type": "stream",
     "text": [
      "Accuracy: 0.676\n",
      "F1 Score (macro): 0.6638649138994265\n"
     ]
    }
   ],
   "source": [
    "print(\"Accuracy:\", accuracy)\n",
    "print(\"F1 Score (macro):\", f1)"
   ]
  },
  {
   "cell_type": "code",
   "execution_count": 17,
   "id": "756c7c3b",
   "metadata": {
    "collapsed": true
   },
   "outputs": [
    {
     "data": {
      "text/plain": [
       "{'mean_fit_time': array([0.19286242, 0.28567076, 0.26963358, 0.30913305, 0.45308261,\n",
       "        0.60625587, 0.39033298, 0.60553279, 0.74574175]),\n",
       " 'std_fit_time': array([0.02795655, 0.01692104, 0.02237721, 0.00485967, 0.0312536 ,\n",
       "        0.05207973, 0.01058702, 0.0448896 , 0.0394985 ]),\n",
       " 'mean_score_time': array([0.00869222, 0.00920506, 0.00801034, 0.00897307, 0.00738897,\n",
       "        0.00834727, 0.01050692, 0.00739388, 0.00953722]),\n",
       " 'std_score_time': array([0.0038181 , 0.00097172, 0.00293074, 0.00176063, 0.00295565,\n",
       "        0.00236055, 0.00334178, 0.00044889, 0.00252064]),\n",
       " 'param_max_depth': masked_array(data=[2, 2, 2, 4, 4, 4, 5, 5, 5],\n",
       "              mask=[False, False, False, False, False, False, False, False,\n",
       "                    False],\n",
       "        fill_value='?',\n",
       "             dtype=object),\n",
       " 'param_max_features': masked_array(data=[100, 150, 200, 100, 150, 200, 100, 150, 200],\n",
       "              mask=[False, False, False, False, False, False, False, False,\n",
       "                    False],\n",
       "        fill_value='?',\n",
       "             dtype=object),\n",
       " 'params': [{'max_depth': 2, 'max_features': 100},\n",
       "  {'max_depth': 2, 'max_features': 150},\n",
       "  {'max_depth': 2, 'max_features': 200},\n",
       "  {'max_depth': 4, 'max_features': 100},\n",
       "  {'max_depth': 4, 'max_features': 150},\n",
       "  {'max_depth': 4, 'max_features': 200},\n",
       "  {'max_depth': 5, 'max_features': 100},\n",
       "  {'max_depth': 5, 'max_features': 150},\n",
       "  {'max_depth': 5, 'max_features': 200}],\n",
       " 'split0_test_score': array([0.3365, 0.309 , 0.3195, 0.572 , 0.5785, 0.5915, 0.6525, 0.6645,\n",
       "        0.647 ]),\n",
       " 'split1_test_score': array([0.305 , 0.3075, 0.322 , 0.5625, 0.5735, 0.5405, 0.656 , 0.6795,\n",
       "        0.6585]),\n",
       " 'split2_test_score': array([0.314 , 0.3245, 0.3265, 0.5945, 0.594 , 0.6155, 0.6715, 0.6625,\n",
       "        0.664 ]),\n",
       " 'split3_test_score': array([0.324 , 0.314 , 0.321 , 0.579 , 0.594 , 0.5905, 0.6425, 0.6435,\n",
       "        0.6575]),\n",
       " 'split4_test_score': array([0.3015, 0.326 , 0.326 , 0.505 , 0.5475, 0.5825, 0.6305, 0.6525,\n",
       "        0.646 ]),\n",
       " 'mean_test_score': array([0.3162, 0.3162, 0.323 , 0.5626, 0.5775, 0.5841, 0.6506, 0.6605,\n",
       "        0.6546]),\n",
       " 'std_test_score': array([0.01280078, 0.00771103, 0.00277489, 0.0306356 , 0.01709678,\n",
       "        0.0244344 , 0.01370547, 0.0121161 , 0.0069814 ]),\n",
       " 'rank_test_score': array([9, 8, 7, 6, 5, 4, 3, 1, 2])}"
      ]
     },
     "execution_count": 17,
     "metadata": {},
     "output_type": "execute_result"
    }
   ],
   "source": [
    "results = gs.cv_results_;results"
   ]
  },
  {
   "cell_type": "code",
   "execution_count": 18,
   "id": "7b89be70",
   "metadata": {},
   "outputs": [
    {
     "name": "stdout",
     "output_type": "stream",
     "text": [
      "Mean test score is: 0.316 with parameters: {'max_depth': 2, 'max_features': 100}\n",
      "Mean test score is: 0.316 with parameters: {'max_depth': 2, 'max_features': 150}\n",
      "Mean test score is: 0.323 with parameters: {'max_depth': 2, 'max_features': 200}\n",
      "Mean test score is: 0.563 with parameters: {'max_depth': 4, 'max_features': 100}\n",
      "Mean test score is: 0.577 with parameters: {'max_depth': 4, 'max_features': 150}\n",
      "Mean test score is: 0.584 with parameters: {'max_depth': 4, 'max_features': 200}\n",
      "Mean test score is: 0.651 with parameters: {'max_depth': 5, 'max_features': 100}\n",
      "Mean test score is: 0.660 with parameters: {'max_depth': 5, 'max_features': 150}\n",
      "Mean test score is: 0.655 with parameters: {'max_depth': 5, 'max_features': 200}\n"
     ]
    }
   ],
   "source": [
    "for score, parameters in zip(results['mean_test_score'], results['params']):\n",
    "    print(f\"Mean test score is: {score:.3f} with parameters: {parameters}\")"
   ]
  },
  {
   "cell_type": "markdown",
   "id": "d9216c0f",
   "metadata": {},
   "source": [
    "3)"
   ]
  },
  {
   "cell_type": "code",
   "execution_count": 19,
   "id": "69b4adf5",
   "metadata": {},
   "outputs": [],
   "source": [
    "from sklearn.decomposition import PCA\n",
    "from sklearn.pipeline import Pipeline"
   ]
  },
  {
   "cell_type": "code",
   "execution_count": 20,
   "id": "85a7de51",
   "metadata": {},
   "outputs": [],
   "source": [
    "pca = PCA(n_components=0.90, random_state=42)"
   ]
  },
  {
   "cell_type": "code",
   "execution_count": 21,
   "id": "7717117a",
   "metadata": {},
   "outputs": [],
   "source": [
    "pipeline = Pipeline([('pca', pca),\n",
    "('decision_tree', DecisionTreeClassifier(criterion='entropy', max_depth=best_params['max_depth'], random_state=42))])\n"
   ]
  },
  {
   "cell_type": "code",
   "execution_count": 22,
   "id": "7db7bc91",
   "metadata": {},
   "outputs": [
    {
     "data": {
      "text/html": [
       "<style>#sk-container-id-3 {color: black;}#sk-container-id-3 pre{padding: 0;}#sk-container-id-3 div.sk-toggleable {background-color: white;}#sk-container-id-3 label.sk-toggleable__label {cursor: pointer;display: block;width: 100%;margin-bottom: 0;padding: 0.3em;box-sizing: border-box;text-align: center;}#sk-container-id-3 label.sk-toggleable__label-arrow:before {content: \"▸\";float: left;margin-right: 0.25em;color: #696969;}#sk-container-id-3 label.sk-toggleable__label-arrow:hover:before {color: black;}#sk-container-id-3 div.sk-estimator:hover label.sk-toggleable__label-arrow:before {color: black;}#sk-container-id-3 div.sk-toggleable__content {max-height: 0;max-width: 0;overflow: hidden;text-align: left;background-color: #f0f8ff;}#sk-container-id-3 div.sk-toggleable__content pre {margin: 0.2em;color: black;border-radius: 0.25em;background-color: #f0f8ff;}#sk-container-id-3 input.sk-toggleable__control:checked~div.sk-toggleable__content {max-height: 200px;max-width: 100%;overflow: auto;}#sk-container-id-3 input.sk-toggleable__control:checked~label.sk-toggleable__label-arrow:before {content: \"▾\";}#sk-container-id-3 div.sk-estimator input.sk-toggleable__control:checked~label.sk-toggleable__label {background-color: #d4ebff;}#sk-container-id-3 div.sk-label input.sk-toggleable__control:checked~label.sk-toggleable__label {background-color: #d4ebff;}#sk-container-id-3 input.sk-hidden--visually {border: 0;clip: rect(1px 1px 1px 1px);clip: rect(1px, 1px, 1px, 1px);height: 1px;margin: -1px;overflow: hidden;padding: 0;position: absolute;width: 1px;}#sk-container-id-3 div.sk-estimator {font-family: monospace;background-color: #f0f8ff;border: 1px dotted black;border-radius: 0.25em;box-sizing: border-box;margin-bottom: 0.5em;}#sk-container-id-3 div.sk-estimator:hover {background-color: #d4ebff;}#sk-container-id-3 div.sk-parallel-item::after {content: \"\";width: 100%;border-bottom: 1px solid gray;flex-grow: 1;}#sk-container-id-3 div.sk-label:hover label.sk-toggleable__label {background-color: #d4ebff;}#sk-container-id-3 div.sk-serial::before {content: \"\";position: absolute;border-left: 1px solid gray;box-sizing: border-box;top: 0;bottom: 0;left: 50%;z-index: 0;}#sk-container-id-3 div.sk-serial {display: flex;flex-direction: column;align-items: center;background-color: white;padding-right: 0.2em;padding-left: 0.2em;position: relative;}#sk-container-id-3 div.sk-item {position: relative;z-index: 1;}#sk-container-id-3 div.sk-parallel {display: flex;align-items: stretch;justify-content: center;background-color: white;position: relative;}#sk-container-id-3 div.sk-item::before, #sk-container-id-3 div.sk-parallel-item::before {content: \"\";position: absolute;border-left: 1px solid gray;box-sizing: border-box;top: 0;bottom: 0;left: 50%;z-index: -1;}#sk-container-id-3 div.sk-parallel-item {display: flex;flex-direction: column;z-index: 1;position: relative;background-color: white;}#sk-container-id-3 div.sk-parallel-item:first-child::after {align-self: flex-end;width: 50%;}#sk-container-id-3 div.sk-parallel-item:last-child::after {align-self: flex-start;width: 50%;}#sk-container-id-3 div.sk-parallel-item:only-child::after {width: 0;}#sk-container-id-3 div.sk-dashed-wrapped {border: 1px dashed gray;margin: 0 0.4em 0.5em 0.4em;box-sizing: border-box;padding-bottom: 0.4em;background-color: white;}#sk-container-id-3 div.sk-label label {font-family: monospace;font-weight: bold;display: inline-block;line-height: 1.2em;}#sk-container-id-3 div.sk-label-container {text-align: center;}#sk-container-id-3 div.sk-container {/* jupyter's `normalize.less` sets `[hidden] { display: none; }` but bootstrap.min.css set `[hidden] { display: none !important; }` so we also need the `!important` here to be able to override the default hidden behavior on the sphinx rendered scikit-learn.org. See: https://github.com/scikit-learn/scikit-learn/issues/21755 */display: inline-block !important;position: relative;}#sk-container-id-3 div.sk-text-repr-fallback {display: none;}</style><div id=\"sk-container-id-3\" class=\"sk-top-container\"><div class=\"sk-text-repr-fallback\"><pre>Pipeline(steps=[(&#x27;pca&#x27;, PCA(n_components=0.9, random_state=42)),\n",
       "                (&#x27;decision_tree&#x27;,\n",
       "                 DecisionTreeClassifier(criterion=&#x27;entropy&#x27;, max_depth=5,\n",
       "                                        random_state=42))])</pre><b>In a Jupyter environment, please rerun this cell to show the HTML representation or trust the notebook. <br />On GitHub, the HTML representation is unable to render, please try loading this page with nbviewer.org.</b></div><div class=\"sk-container\" hidden><div class=\"sk-item sk-dashed-wrapped\"><div class=\"sk-label-container\"><div class=\"sk-label sk-toggleable\"><input class=\"sk-toggleable__control sk-hidden--visually\" id=\"sk-estimator-id-5\" type=\"checkbox\" ><label for=\"sk-estimator-id-5\" class=\"sk-toggleable__label sk-toggleable__label-arrow\">Pipeline</label><div class=\"sk-toggleable__content\"><pre>Pipeline(steps=[(&#x27;pca&#x27;, PCA(n_components=0.9, random_state=42)),\n",
       "                (&#x27;decision_tree&#x27;,\n",
       "                 DecisionTreeClassifier(criterion=&#x27;entropy&#x27;, max_depth=5,\n",
       "                                        random_state=42))])</pre></div></div></div><div class=\"sk-serial\"><div class=\"sk-item\"><div class=\"sk-estimator sk-toggleable\"><input class=\"sk-toggleable__control sk-hidden--visually\" id=\"sk-estimator-id-6\" type=\"checkbox\" ><label for=\"sk-estimator-id-6\" class=\"sk-toggleable__label sk-toggleable__label-arrow\">PCA</label><div class=\"sk-toggleable__content\"><pre>PCA(n_components=0.9, random_state=42)</pre></div></div></div><div class=\"sk-item\"><div class=\"sk-estimator sk-toggleable\"><input class=\"sk-toggleable__control sk-hidden--visually\" id=\"sk-estimator-id-7\" type=\"checkbox\" ><label for=\"sk-estimator-id-7\" class=\"sk-toggleable__label sk-toggleable__label-arrow\">DecisionTreeClassifier</label><div class=\"sk-toggleable__content\"><pre>DecisionTreeClassifier(criterion=&#x27;entropy&#x27;, max_depth=5, random_state=42)</pre></div></div></div></div></div></div></div>"
      ],
      "text/plain": [
       "Pipeline(steps=[('pca', PCA(n_components=0.9, random_state=42)),\n",
       "                ('decision_tree',\n",
       "                 DecisionTreeClassifier(criterion='entropy', max_depth=5,\n",
       "                                        random_state=42))])"
      ]
     },
     "execution_count": 22,
     "metadata": {},
     "output_type": "execute_result"
    }
   ],
   "source": [
    "pipeline.fit(X_train, y_train)\n"
   ]
  },
  {
   "cell_type": "code",
   "execution_count": 23,
   "id": "7b83a127",
   "metadata": {},
   "outputs": [],
   "source": [
    "y_pred_pca = pipeline.predict(X_test)\n"
   ]
  },
  {
   "cell_type": "code",
   "execution_count": 24,
   "id": "7d996005",
   "metadata": {},
   "outputs": [],
   "source": [
    "accuracy_pca = accuracy_score(y_test, y_pred_pca)"
   ]
  },
  {
   "cell_type": "code",
   "execution_count": 25,
   "id": "1f0db0bb",
   "metadata": {},
   "outputs": [],
   "source": [
    "f1_pca = f1_score(y_test, y_pred_pca, average='macro')\n"
   ]
  },
  {
   "cell_type": "code",
   "execution_count": 26,
   "id": "ee71e694",
   "metadata": {},
   "outputs": [
    {
     "name": "stdout",
     "output_type": "stream",
     "text": [
      "Decision Tree with PCA Accuracy:, 0.670\n",
      "Decision Tree with PCA F1 Score:, 0.646\n",
      "Accuracy: 0.676\n",
      "F1 Score (macro):, 0.664\n"
     ]
    }
   ],
   "source": [
    "print(f\"Decision Tree with PCA Accuracy:, {accuracy_pca:.3f}\")\n",
    "print(f\"Decision Tree with PCA F1 Score:, {f1_pca:.3f}\")\n",
    "print(\"Accuracy:\", accuracy)\n",
    "print(f\"F1 Score (macro):, {f1:.3f}\")"
   ]
  },
  {
   "cell_type": "markdown",
   "id": "34b0ad91",
   "metadata": {},
   "source": [
    "As we can see we have slightly worse results with the PCA, which is reasonable because with the dimensionality reduction of PCA\n",
    "we have some information loss. This is happening because we keep the Principal components that represent the most variance and neglect the low variance PCs, resulting on having some variance loss which is translated in information loss. On the other hand PCA transformation makes the system to perform faster by performing faster computations and reducing storage requirements. So the trade off is losing some information but gaining on speed and performance."
   ]
  },
  {
   "cell_type": "markdown",
   "id": "0303b2c3",
   "metadata": {},
   "source": [
    "4)"
   ]
  },
  {
   "cell_type": "code",
   "execution_count": 27,
   "id": "79e309cb",
   "metadata": {},
   "outputs": [],
   "source": [
    "from sklearn.ensemble import GradientBoostingClassifier"
   ]
  },
  {
   "cell_type": "code",
   "execution_count": 28,
   "id": "f7e8f701",
   "metadata": {},
   "outputs": [],
   "source": [
    "gbc = GradientBoostingClassifier(\n",
    "    max_depth=2,\n",
    "    n_estimators=6,\n",
    "    learning_rate=1.0,\n",
    "    random_state=42\n",
    ")"
   ]
  },
  {
   "cell_type": "code",
   "execution_count": 29,
   "id": "cf71b227",
   "metadata": {},
   "outputs": [],
   "source": [
    "X_train_pca = pca.fit_transform(X_train)\n",
    "X_test_pca = pca.transform(X_test)"
   ]
  },
  {
   "cell_type": "code",
   "execution_count": 30,
   "id": "a454c5ba",
   "metadata": {},
   "outputs": [
    {
     "data": {
      "text/html": [
       "<style>#sk-container-id-4 {color: black;}#sk-container-id-4 pre{padding: 0;}#sk-container-id-4 div.sk-toggleable {background-color: white;}#sk-container-id-4 label.sk-toggleable__label {cursor: pointer;display: block;width: 100%;margin-bottom: 0;padding: 0.3em;box-sizing: border-box;text-align: center;}#sk-container-id-4 label.sk-toggleable__label-arrow:before {content: \"▸\";float: left;margin-right: 0.25em;color: #696969;}#sk-container-id-4 label.sk-toggleable__label-arrow:hover:before {color: black;}#sk-container-id-4 div.sk-estimator:hover label.sk-toggleable__label-arrow:before {color: black;}#sk-container-id-4 div.sk-toggleable__content {max-height: 0;max-width: 0;overflow: hidden;text-align: left;background-color: #f0f8ff;}#sk-container-id-4 div.sk-toggleable__content pre {margin: 0.2em;color: black;border-radius: 0.25em;background-color: #f0f8ff;}#sk-container-id-4 input.sk-toggleable__control:checked~div.sk-toggleable__content {max-height: 200px;max-width: 100%;overflow: auto;}#sk-container-id-4 input.sk-toggleable__control:checked~label.sk-toggleable__label-arrow:before {content: \"▾\";}#sk-container-id-4 div.sk-estimator input.sk-toggleable__control:checked~label.sk-toggleable__label {background-color: #d4ebff;}#sk-container-id-4 div.sk-label input.sk-toggleable__control:checked~label.sk-toggleable__label {background-color: #d4ebff;}#sk-container-id-4 input.sk-hidden--visually {border: 0;clip: rect(1px 1px 1px 1px);clip: rect(1px, 1px, 1px, 1px);height: 1px;margin: -1px;overflow: hidden;padding: 0;position: absolute;width: 1px;}#sk-container-id-4 div.sk-estimator {font-family: monospace;background-color: #f0f8ff;border: 1px dotted black;border-radius: 0.25em;box-sizing: border-box;margin-bottom: 0.5em;}#sk-container-id-4 div.sk-estimator:hover {background-color: #d4ebff;}#sk-container-id-4 div.sk-parallel-item::after {content: \"\";width: 100%;border-bottom: 1px solid gray;flex-grow: 1;}#sk-container-id-4 div.sk-label:hover label.sk-toggleable__label {background-color: #d4ebff;}#sk-container-id-4 div.sk-serial::before {content: \"\";position: absolute;border-left: 1px solid gray;box-sizing: border-box;top: 0;bottom: 0;left: 50%;z-index: 0;}#sk-container-id-4 div.sk-serial {display: flex;flex-direction: column;align-items: center;background-color: white;padding-right: 0.2em;padding-left: 0.2em;position: relative;}#sk-container-id-4 div.sk-item {position: relative;z-index: 1;}#sk-container-id-4 div.sk-parallel {display: flex;align-items: stretch;justify-content: center;background-color: white;position: relative;}#sk-container-id-4 div.sk-item::before, #sk-container-id-4 div.sk-parallel-item::before {content: \"\";position: absolute;border-left: 1px solid gray;box-sizing: border-box;top: 0;bottom: 0;left: 50%;z-index: -1;}#sk-container-id-4 div.sk-parallel-item {display: flex;flex-direction: column;z-index: 1;position: relative;background-color: white;}#sk-container-id-4 div.sk-parallel-item:first-child::after {align-self: flex-end;width: 50%;}#sk-container-id-4 div.sk-parallel-item:last-child::after {align-self: flex-start;width: 50%;}#sk-container-id-4 div.sk-parallel-item:only-child::after {width: 0;}#sk-container-id-4 div.sk-dashed-wrapped {border: 1px dashed gray;margin: 0 0.4em 0.5em 0.4em;box-sizing: border-box;padding-bottom: 0.4em;background-color: white;}#sk-container-id-4 div.sk-label label {font-family: monospace;font-weight: bold;display: inline-block;line-height: 1.2em;}#sk-container-id-4 div.sk-label-container {text-align: center;}#sk-container-id-4 div.sk-container {/* jupyter's `normalize.less` sets `[hidden] { display: none; }` but bootstrap.min.css set `[hidden] { display: none !important; }` so we also need the `!important` here to be able to override the default hidden behavior on the sphinx rendered scikit-learn.org. See: https://github.com/scikit-learn/scikit-learn/issues/21755 */display: inline-block !important;position: relative;}#sk-container-id-4 div.sk-text-repr-fallback {display: none;}</style><div id=\"sk-container-id-4\" class=\"sk-top-container\"><div class=\"sk-text-repr-fallback\"><pre>GradientBoostingClassifier(learning_rate=1.0, max_depth=2, n_estimators=6,\n",
       "                           random_state=42)</pre><b>In a Jupyter environment, please rerun this cell to show the HTML representation or trust the notebook. <br />On GitHub, the HTML representation is unable to render, please try loading this page with nbviewer.org.</b></div><div class=\"sk-container\" hidden><div class=\"sk-item\"><div class=\"sk-estimator sk-toggleable\"><input class=\"sk-toggleable__control sk-hidden--visually\" id=\"sk-estimator-id-8\" type=\"checkbox\" checked><label for=\"sk-estimator-id-8\" class=\"sk-toggleable__label sk-toggleable__label-arrow\">GradientBoostingClassifier</label><div class=\"sk-toggleable__content\"><pre>GradientBoostingClassifier(learning_rate=1.0, max_depth=2, n_estimators=6,\n",
       "                           random_state=42)</pre></div></div></div></div></div>"
      ],
      "text/plain": [
       "GradientBoostingClassifier(learning_rate=1.0, max_depth=2, n_estimators=6,\n",
       "                           random_state=42)"
      ]
     },
     "execution_count": 30,
     "metadata": {},
     "output_type": "execute_result"
    }
   ],
   "source": [
    "gbc.fit(X_train_pca, y_train)"
   ]
  },
  {
   "cell_type": "code",
   "execution_count": 31,
   "id": "365e9607",
   "metadata": {},
   "outputs": [],
   "source": [
    "y_pred_gbc = gbc.predict(X_test_pca)\n"
   ]
  },
  {
   "cell_type": "code",
   "execution_count": 32,
   "id": "7dc119fe",
   "metadata": {},
   "outputs": [],
   "source": [
    "accuracy_gbc = accuracy_score(y_test, y_pred_gbc)\n",
    "f1_gbc = f1_score(y_test, y_pred_gbc, average='macro')"
   ]
  },
  {
   "cell_type": "code",
   "execution_count": 33,
   "id": "68941905",
   "metadata": {},
   "outputs": [
    {
     "name": "stdout",
     "output_type": "stream",
     "text": [
      "PCA/GBC Accuracy: 0.772\n",
      "PCA/GBC F1 Score: 0.768\n",
      "Decision Tree with PCA Accuracy:, 0.670\n",
      "Decision Tree with PCA F1 Score:, 0.646\n"
     ]
    }
   ],
   "source": [
    "print(f\"PCA/GBC Accuracy: {accuracy_gbc:.3f}\")\n",
    "print(f\"PCA/GBC F1 Score: {f1_gbc:.3f}\")\n",
    "print(f\"Decision Tree with PCA Accuracy:, {accuracy_pca:.3f}\")\n",
    "print(f\"Decision Tree with PCA F1 Score:, {f1_pca:.3f}\")"
   ]
  },
  {
   "cell_type": "markdown",
   "id": "a86de50b",
   "metadata": {},
   "source": [
    "Gradient Boosting is an ensemble learning method that combines swallow Trees into a stronger Tree.It trains models sequentially \n",
    "to minimize the error of the previous model using Gradient Descent that's why we end up having better accuracy results than the Deeper Tree classifier. "
   ]
  },
  {
   "cell_type": "markdown",
   "id": "12dadc2d",
   "metadata": {},
   "source": [
    "5)"
   ]
  },
  {
   "cell_type": "code",
   "execution_count": 34,
   "id": "340ea104",
   "metadata": {},
   "outputs": [],
   "source": [
    "import matplotlib.pyplot as plt"
   ]
  },
  {
   "cell_type": "code",
   "execution_count": 35,
   "id": "bf9cc980",
   "metadata": {},
   "outputs": [],
   "source": [
    "reconstructed_images = pca.inverse_transform(X_train_pca[:5])\n",
    "original_images = X_train[:5]"
   ]
  },
  {
   "cell_type": "code",
   "execution_count": 36,
   "id": "2244b2d1",
   "metadata": {},
   "outputs": [
    {
     "data": {
      "image/png": "[encoded data removed]",
      "text/plain": [
       "<Figure size 1000x600 with 10 Axes>"
      ]
     },
     "metadata": {},
     "output_type": "display_data"
    }
   ],
   "source": [
    "plt.figure(figsize=(10,6))\n",
    "for i in range(0,5):\n",
    "    plt.subplot(2,5,i+1)\n",
    "    plt.imshow(reconstructed_images[i].reshape(-28,28))\n",
    "    plt.title(f\"Reconstructed: {y_train[i]}\")\n",
    "    plt.axis(\"off\")\n",
    "    \n",
    "    plt.subplot(2,5,i+6)\n",
    "    plt.imshow(original_images[i].reshape(-28,28))\n",
    "    plt.title(f\"original: {y_train[i]}\")\n",
    "    plt.axis(\"off\")\n",
    "plt.show()  "
   ]
  },
  {
   "cell_type": "markdown",
   "id": "609669c4",
   "metadata": {},
   "source": []
  },
  {
   "cell_type": "code",
   "execution_count": 37,
   "id": "213c995a",
   "metadata": {},
   "outputs": [],
   "source": [
    "from sklearn.cluster import KMeans"
   ]
  },
  {
   "cell_type": "code",
   "execution_count": 38,
   "id": "d005948c",
   "metadata": {},
   "outputs": [
    {
     "name": "stderr",
     "output_type": "stream",
     "text": [
      "C:\\Users\\vagelis\\anaconda3\\Lib\\site-packages\\sklearn\\cluster\\_kmeans.py:1412: FutureWarning: The default value of `n_init` will change from 10 to 'auto' in 1.4. Set the value of `n_init` explicitly to suppress the warning\n",
      "  super()._check_params_vs_input(X, default_n_init=10)\n"
     ]
    },
    {
     "data": {
      "text/html": [
       "<style>#sk-container-id-5 {color: black;}#sk-container-id-5 pre{padding: 0;}#sk-container-id-5 div.sk-toggleable {background-color: white;}#sk-container-id-5 label.sk-toggleable__label {cursor: pointer;display: block;width: 100%;margin-bottom: 0;padding: 0.3em;box-sizing: border-box;text-align: center;}#sk-container-id-5 label.sk-toggleable__label-arrow:before {content: \"▸\";float: left;margin-right: 0.25em;color: #696969;}#sk-container-id-5 label.sk-toggleable__label-arrow:hover:before {color: black;}#sk-container-id-5 div.sk-estimator:hover label.sk-toggleable__label-arrow:before {color: black;}#sk-container-id-5 div.sk-toggleable__content {max-height: 0;max-width: 0;overflow: hidden;text-align: left;background-color: #f0f8ff;}#sk-container-id-5 div.sk-toggleable__content pre {margin: 0.2em;color: black;border-radius: 0.25em;background-color: #f0f8ff;}#sk-container-id-5 input.sk-toggleable__control:checked~div.sk-toggleable__content {max-height: 200px;max-width: 100%;overflow: auto;}#sk-container-id-5 input.sk-toggleable__control:checked~label.sk-toggleable__label-arrow:before {content: \"▾\";}#sk-container-id-5 div.sk-estimator input.sk-toggleable__control:checked~label.sk-toggleable__label {background-color: #d4ebff;}#sk-container-id-5 div.sk-label input.sk-toggleable__control:checked~label.sk-toggleable__label {background-color: #d4ebff;}#sk-container-id-5 input.sk-hidden--visually {border: 0;clip: rect(1px 1px 1px 1px);clip: rect(1px, 1px, 1px, 1px);height: 1px;margin: -1px;overflow: hidden;padding: 0;position: absolute;width: 1px;}#sk-container-id-5 div.sk-estimator {font-family: monospace;background-color: #f0f8ff;border: 1px dotted black;border-radius: 0.25em;box-sizing: border-box;margin-bottom: 0.5em;}#sk-container-id-5 div.sk-estimator:hover {background-color: #d4ebff;}#sk-container-id-5 div.sk-parallel-item::after {content: \"\";width: 100%;border-bottom: 1px solid gray;flex-grow: 1;}#sk-container-id-5 div.sk-label:hover label.sk-toggleable__label {background-color: #d4ebff;}#sk-container-id-5 div.sk-serial::before {content: \"\";position: absolute;border-left: 1px solid gray;box-sizing: border-box;top: 0;bottom: 0;left: 50%;z-index: 0;}#sk-container-id-5 div.sk-serial {display: flex;flex-direction: column;align-items: center;background-color: white;padding-right: 0.2em;padding-left: 0.2em;position: relative;}#sk-container-id-5 div.sk-item {position: relative;z-index: 1;}#sk-container-id-5 div.sk-parallel {display: flex;align-items: stretch;justify-content: center;background-color: white;position: relative;}#sk-container-id-5 div.sk-item::before, #sk-container-id-5 div.sk-parallel-item::before {content: \"\";position: absolute;border-left: 1px solid gray;box-sizing: border-box;top: 0;bottom: 0;left: 50%;z-index: -1;}#sk-container-id-5 div.sk-parallel-item {display: flex;flex-direction: column;z-index: 1;position: relative;background-color: white;}#sk-container-id-5 div.sk-parallel-item:first-child::after {align-self: flex-end;width: 50%;}#sk-container-id-5 div.sk-parallel-item:last-child::after {align-self: flex-start;width: 50%;}#sk-container-id-5 div.sk-parallel-item:only-child::after {width: 0;}#sk-container-id-5 div.sk-dashed-wrapped {border: 1px dashed gray;margin: 0 0.4em 0.5em 0.4em;box-sizing: border-box;padding-bottom: 0.4em;background-color: white;}#sk-container-id-5 div.sk-label label {font-family: monospace;font-weight: bold;display: inline-block;line-height: 1.2em;}#sk-container-id-5 div.sk-label-container {text-align: center;}#sk-container-id-5 div.sk-container {/* jupyter's `normalize.less` sets `[hidden] { display: none; }` but bootstrap.min.css set `[hidden] { display: none !important; }` so we also need the `!important` here to be able to override the default hidden behavior on the sphinx rendered scikit-learn.org. See: https://github.com/scikit-learn/scikit-learn/issues/21755 */display: inline-block !important;position: relative;}#sk-container-id-5 div.sk-text-repr-fallback {display: none;}</style><div id=\"sk-container-id-5\" class=\"sk-top-container\"><div class=\"sk-text-repr-fallback\"><pre>KMeans(n_clusters=20, random_state=42)</pre><b>In a Jupyter environment, please rerun this cell to show the HTML representation or trust the notebook. <br />On GitHub, the HTML representation is unable to render, please try loading this page with nbviewer.org.</b></div><div class=\"sk-container\" hidden><div class=\"sk-item\"><div class=\"sk-estimator sk-toggleable\"><input class=\"sk-toggleable__control sk-hidden--visually\" id=\"sk-estimator-id-9\" type=\"checkbox\" checked><label for=\"sk-estimator-id-9\" class=\"sk-toggleable__label sk-toggleable__label-arrow\">KMeans</label><div class=\"sk-toggleable__content\"><pre>KMeans(n_clusters=20, random_state=42)</pre></div></div></div></div></div>"
      ],
      "text/plain": [
       "KMeans(n_clusters=20, random_state=42)"
      ]
     },
     "execution_count": 38,
     "metadata": {},
     "output_type": "execute_result"
    }
   ],
   "source": [
    "kmeans = KMeans(n_clusters=20, random_state=42)\n",
    "kmeans.fit(X_train_pca)"
   ]
  },
  {
   "cell_type": "code",
   "execution_count": 39,
   "id": "c29118a3",
   "metadata": {},
   "outputs": [],
   "source": [
    "representative_digits = []\n",
    "for i in range(20):\n",
    "    cluster_center = kmeans.cluster_centers_[i]\n",
    "    distances = np.linalg.norm(X_train_pca - cluster_center, axis=1) #calculates euclidian distance\n",
    "    representative_digits.append(X_train[np.argmin(distances)]) \n",
    "\n",
    "#add to representative_digits list the index with the smallest distance\n",
    "#the data point closest to the cluster i centroid\n"
   ]
  },
  {
   "cell_type": "code",
   "execution_count": 40,
   "id": "b7681f56",
   "metadata": {},
   "outputs": [
    {
     "data": {
      "image/png": "[encoded data removed]",
      "text/plain": [
       "<Figure size 1400x500 with 20 Axes>"
      ]
     },
     "metadata": {},
     "output_type": "display_data"
    }
   ],
   "source": [
    "plt.figure(figsize=(14, 5))\n",
    "for i in range(0,20):\n",
    "    plt.subplot(2, 10, i + 1)\n",
    "    plt.imshow(representative_digits[i].reshape(28, 28))\n",
    "    plt.title(f\"Cluster:{i+1}\")\n",
    "    plt.axis('off')\n",
    "plt.show()"
   ]
  },
  {
   "cell_type": "markdown",
   "id": "7550dbb0",
   "metadata": {},
   "source": [
    "6)"
   ]
  },
  {
   "cell_type": "code",
   "execution_count": 60,
   "id": "59a25b1c",
   "metadata": {},
   "outputs": [
    {
     "data": {
      "text/plain": [
       "[0, 0, 1, 1, 2, 2, 3, 3, 4, 4, 5, 5, 6, 6, 7, 7, 8, 8, 9, 9]"
      ]
     },
     "execution_count": 60,
     "metadata": {},
     "output_type": "execute_result"
    }
   ],
   "source": [
    "labels=[]\n",
    "for i in range(10):\n",
    "    labels.extend(2*[i])\n",
    "labels"
   ]
  },
  {
   "cell_type": "code",
   "execution_count": 61,
   "id": "05d8cc0f",
   "metadata": {},
   "outputs": [
    {
     "data": {
      "text/plain": [
       "array([0, 0, 1, 1, 2, 2, 3, 3, 4, 4, 5, 5, 6, 6, 7, 7, 8, 8, 9, 9])"
      ]
     },
     "execution_count": 61,
     "metadata": {},
     "output_type": "execute_result"
    }
   ],
   "source": [
    "labels=np.array(labels);labels"
   ]
  },
  {
   "cell_type": "code",
   "execution_count": 62,
   "id": "ee93025c",
   "metadata": {},
   "outputs": [
    {
     "data": {
      "text/plain": [
       "array([ 0,  1,  2,  3,  4,  5,  6,  7,  8,  9, 10, 11, 12, 13, 14, 15, 16,\n",
       "       17, 18, 19])"
      ]
     },
     "execution_count": 62,
     "metadata": {},
     "output_type": "execute_result"
    }
   ],
   "source": [
    "cluster_prediction = kmeans.predict(X_test_pca) #assign X_test_pca to clusters 0-20\n",
    "np.unique(cluster_prediction)"
   ]
  },
  {
   "cell_type": "code",
   "execution_count": 63,
   "id": "d564c134",
   "metadata": {
    "collapsed": true
   },
   "outputs": [
    {
     "name": "stdout",
     "output_type": "stream",
     "text": [
      "9 6 6 3 8 2 1 5 3 6 4 4 9 4 3 3 5 9 9 4 2 6 8 4 0 3 9 6 1 4 5 5 7 9 9 1 3 2 0 0 0 6 7 6 4 9 4 0 5 7 1 9 8 2 9 7 7 4 5 4 1 2 9 6 0 3 2 9 2 8 8 1 3 2 8 4 6 3 9 3 4 8 5 6 5 1 9 6 1 9 3 0 5 9 6 8 5 4 9 0 6 1 8 8 4 1 6 1 2 6 7 9 4 7 5 4 7 5 8 9 3 8 5 6 3 1 7 6 6 6 0 2 1 5 4 1 4 4 8 5 1 6 8 0 7 8 0 4 4 5 2 9 6 0 0 7 4 8 0 2 4 8 5 7 0 8 2 7 0 6 9 3 1 4 6 9 8 2 2 0 4 5 4 7 5 3 9 5 9 8 4 3 9 4 0 6 2 8 6 9 0 3 9 3 5 0 6 6 7 3 0 0 1 6 0 2 8 4 0 4 3 4 0 6 4 3 3 2 0 0 1 5 3 0 4 8 4 6 1 6 5 3 1 0 6 7 5 4 6 0 2 0 5 9 3 3 1 3 0 6 7 1 8 5 2 2 1 2 9 7 8 8 3 9 9 4 7 0 9 0 7 6 5 2 6 6 2 3 5 9 7 3 4 8 3 9 4 7 3 0 8 5 1 0 6 0 6 7 5 6 0 7 6 4 0 0 7 3 8 3 5 1 6 9 7 4 5 2 7 3 9 5 9 4 2 5 1 6 3 3 2 2 6 1 5 0 5 0 2 0 1 9 6 9 0 3 9 8 6 7 0 6 9 2 5 0 4 6 6 1 8 1 1 9 2 3 7 4 4 4 9 6 6 8 6 0 3 1 1 0 3 6 1 4 2 1 4 0 8 9 4 9 5 9 3 4 2 9 8 2 4 1 6 8 6 8 1 7 3 3 4 9 0 7 4 3 3 6 2 1 3 3 7 8 7 9 1 9 0 7 9 7 7 0 0 7 0 4 7 8 9 7 2 4 0 0 3 4 3 5 5 5 8 6 1 4 4 0 9 0 8 6 7 0 2 4 9 8 3 1 9 5 0 4 4 2 4 4 9 4 0 7 4 8 4 8 6 4 6 2 1 7 3 5 5 3 4 0 1 5 2 1 6 0 8 7 8 8 4 8 1 0 0 9 2 3 6 4 3 0 1 0 2 8 1 0 6 6 9 2 5 3 7 4 5 7 0 0 9 6 6 4 6 0 1 8 2 8 3 1 2 6 1 1 3 7 0 7 5 0 3 8 9 1 9 5 6 1 1 6 3 1 1 1 8 1 2 4 3 2 7 8 8 1 3 1 9 6 9 7 6 0 9 8 0 3 9 9 7 5 7 7 7 2 0 4 7 7 4 2 2 2 6 3 8 6 9 6 4 6 3 8 2 5 0 5 7 0 6 2 0 5 4 9 6 3 3 3 9 6 8 2 3 3 1 4 5 8 0 3 0 2 3 3 7 4 0 2 4 3 4 0 3 5 9 5 8 6 5 9 0 4 6 6 5 0 6 7 9 2 2 8 7 2 3 2 0 4 4 9 4 3 9 6 8 3 4 9 7 3 1 7 0 0 3 2 9 7 5 9 4 6 1 8 2 8 8 2 0 1 3 6 4 5 6 2 0 4 3 1 2 6 0 2 4 2 9 0 1 6 8 1 5 4 9 7 8 0 6 3 4 4 1 7 8 8 1 5 6 2 2 0 9 0 6 6 5 5 9 2 7 4 3 5 7 9 7 1 3 2 8 3 7 4 6 1 1 7 6 3 5 1 1 9 0 6 8 8 3 0 1 7 5 0 3 2 4 8 0 2 4 4 5 0 6 1 6 9 8 5 0 1 9 6 1 0 8 9 8 2 7 6 8 2 0 7 4 0 6 5 9 4 1 3 5 1 6 5 4 7 3 4 6 1 8 4 2 2 9 4 9 8 5 1 7 1 4 7 8 6 0 8 8 2 0 4 6 1 9 6 9 1 3 7 7 1 7 8 3 1 5 8 7 6 8 3 4 4 8 3 4 5 5 3 4 1 5 0 0 3 5 7 8 6 3 0 6 9 0 3 9 4 7 6 8 1 5 2 6 9 7 8 6 5 7 4 0 6 1 8 9 6 7 2 0 2 1 4 1 8 3 2 0 0 3 1 9 8 3 9 5 3 5 4 5 6 1 1 0 5 0 4 6 5 1 8 4 5 5 4 5 1 0 1 0 3 9 0 9 5 0 0 3 0 0 4 7 6 3 1 8 5 0 1 6 4 6 1 3 0 7 2 3 0 4 5 0 8 4 4 5 7 3 2 8 9 4 8 0 4 6 4 0 9 8 0 0 6 3 8 9 9 2 6 4 7 7 6 0 6 3 3 3 6 0 9 5 1 6 6 0 8 9 7 9 9 2 0 9 0 6 8 1 6 7 1 2 8 6 4 6 2 4 0 2 7 0 6 6 6 3 2 8 7 9 4 3 8 1 8 9 3 1 4 9 9 0 5 6 1 6 8 6 3 6 8 5 5 5 7 6 2 3 0 3 6 0 6 8 2 3 9 0 4 9 5 7 0 5 2 3 8 3 1 1 5 7 9 0 2 9 9 2 2 4 3 7 8 0 7 2 8 5 9 7 2 9 8 5 0 1 4 6 0 0 1 6 9 8 8 8 5 3 8 8 4 4 0 5 9 1 3 4 1 2 1 4 3 1 8 8 0 3 3 4 9 9 5 4 1 1 3 3 0 9 4 0 2 2 1 6 4 1 0 5 2 7 5 3 1 2 6 2 2 0 3 3 3 2 7 1 0 3 0 3 4 3 7 5 5 5 0 2 6 1 5 9 8 9 6 0 8 8 5 0 8 7 9 9 7 3 2 7 4 1 9 4 0 3 6 3 4 4 0 1 1 0 8 5 0 7 4 8 6 7 7 3 5 2 5 9 7 8 5 9 8 6 0 0 8 4 0 1 7 2 5 2 2 4 9 3 0 4 3 7 1 4 8 1 3 8 5 5 0 9 4 1 7 3 8 5 0 6 3 0 0 4 7 4 1 4 3 1 5 8 9 2 7 6 2 7 3 5 9 7 0 5 8 6 3 4 4 0 3 5 7 8 7 6 4 3 5 7 4 0 4 6 9 8 6 7 7 2 0 9 6 2 2 0 3 7 0 2 4 7 3 2 5 1 7 9 4 2 3 4 9 1 5 4 0 4 1 6 2 3 6 5 3 6 9 0 6 1 5 0 5 8 7 2 9 8 0 9 3 9 1 6 8 3 5 9 3 1 5 9 9 2 9 1 0 4 2 2 6 9 5 2 7 3 3 6 9 3 7 3 1 3 4 8 2 1 3 1 3 1 3 8 4 1 2 6 9 9 3 5 1 8 7 4 5 8 7 9 3 9 6 3 0 6 5 5 1 1 6 4 2 5 3 4 5 4 4 3 3 5 5 1 1 2 3 2 3 3 0 5 0 6 4 6 7 5 5 4 5 4 2 3 1 4 5 0 0 6 7 3 7 6 7 7 7 1 2 1 8 8 6 4 6 5 4 4 0 4 1 4 8 8 2 2 9 7 9 5 9 8 1 4 7 1 8 9 6 0 0 1 9 4 0 4 1 5 7 6 0 1 7 1 0 6 4 2 3 7 9 6 2 9 0 4 9 0 1 4 9 6 6 6 4 7 4 2 0 1 4 1 5 5 2 4 0 0 7 7 9 4 2 3 5 3 4 0 9 0 3 9 4 5 0 3 8 3 7 5 3 4 9 5 1 8 2 0 5 0 7 7 4 3 4 8 3 4 7 7 0 2 7 7 6 1 7 4 1 6 5 2 6 3 8 3 6 5 1 8 2 3 3 8 2 8 6 7 0 0 4 1 6 6 0 9 5 6 9 3 6 2 2 2 7 2 4 7 6 2 6 7 2 4 3 8 6 2 2 1 7 1 4 0 4 2 0 5 0 5 2 3 9 0 8 6 1 6 3 7 3 9 2 8 7 9 5 4 7 7 9 0 5 3 3 3 4 6 7 6 6 6 2 2 7 4 5 0 6 3 1 4 0 5 4 6 8 8 0 5 1 4 4 8 8 4 1 2 4 7 5 1 2 5 5 7 5 9 6 4 7 5 0 9 8 8 3 1 2 1 4 9 7 2 0 9 9 4 9 3 2 9 2 9 4 3 7 0 1 8 1 0 6 1 2 7 8 9 0 6 6 4 8 4 6 2 5 0 0 1 5 4 4 1 1 7 1 9 1 1 6 1 1 3 4 2 0 5 9 2 4 2 6 1 3 4 4 7 4 1 2 7 2 2 9 0 9 0 9 8 6 3 0 9 5 8 9 5 3 6 8 9 5 1 2 6 1 4 0 1 6 5 7 0 1 2 5 7 7 9 8 1 0 6 6 1 5 2 1 6 6 6 8 9 8 7 1 5 4 1 2 1 6 1 6 4 9 7 1 0 6 7 6 1 1 7 7 9 7 4 0 1 4 4 2 0 4 "
     ]
    }
   ],
   "source": [
    "for cluster in cluster_prediction:\n",
    "    print(labels[cluster],end=\" \" )"
   ]
  },
  {
   "cell_type": "code",
   "execution_count": 64,
   "id": "00002a9a",
   "metadata": {},
   "outputs": [
    {
     "data": {
      "text/plain": [
       "array([18, 12, 13, ...,  5,  0,  9])"
      ]
     },
     "execution_count": 64,
     "metadata": {},
     "output_type": "execute_result"
    }
   ],
   "source": [
    "cluster_prediction"
   ]
  },
  {
   "cell_type": "code",
   "execution_count": 65,
   "id": "dc46d3dd",
   "metadata": {},
   "outputs": [],
   "source": [
    "y_pred_clusters = np.array([labels[cluster] for cluster in cluster_prediction])"
   ]
  },
  {
   "cell_type": "code",
   "execution_count": 66,
   "id": "f06260bc",
   "metadata": {},
   "outputs": [
    {
     "data": {
      "text/plain": [
       "array([0, 1, 2, 3, 4, 5, 6, 7, 8, 9])"
      ]
     },
     "execution_count": 66,
     "metadata": {},
     "output_type": "execute_result"
    }
   ],
   "source": [
    "np.unique(y_pred_clusters)"
   ]
  },
  {
   "cell_type": "code",
   "execution_count": 67,
   "id": "5c07e00a",
   "metadata": {},
   "outputs": [],
   "source": [
    "accuracy_clusters = accuracy_score(y_test, y_pred_clusters)\n",
    "f1_clusters = f1_score(y_test, y_pred_clusters, average='macro')"
   ]
  },
  {
   "cell_type": "code",
   "execution_count": 68,
   "id": "4ca43840",
   "metadata": {},
   "outputs": [
    {
     "name": "stdout",
     "output_type": "stream",
     "text": [
      "KMeans Accuracy: 0.080\n",
      "KMeans F1 Score: 0.078\n"
     ]
    }
   ],
   "source": [
    "print(f\"KMeans Accuracy: {accuracy_clusters:.3f}\")\n",
    "print(f\"KMeans F1 Score: {f1_clusters:.3f}\")"
   ]
  },
  {
   "cell_type": "markdown",
   "id": "a875f303",
   "metadata": {},
   "source": [
    "Using KMeans with label propagation can not reach the performance of supervised classifiers but it can still achieve reasonable accuracy if the clusters are well-separated and the manual labeling is accurate.Compared to Decision Trees and GradientBoosting, KMeans with label propagation is faster in training but might underperform due to the lack of a supervised optimization process. This highlights the trade-offs between unsupervised and supervised learning approaches.\n"
   ]
  }
 ],
 "metadata": {
  "kernelspec": {
   "display_name": "Python 3 (ipykernel)",
   "language": "python",
   "name": "python3"
  },
  "language_info": {
   "codemirror_mode": {
    "name": "ipython",
    "version": 3
   },
   "file_extension": ".py",
   "mimetype": "text/x-python",
   "name": "python",
   "nbconvert_exporter": "python",
   "pygments_lexer": "ipython3",
   "version": "3.11.5"
  }
 },
 "nbformat": 4,
 "nbformat_minor": 5
}
