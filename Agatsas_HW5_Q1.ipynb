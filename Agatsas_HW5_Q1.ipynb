{
 "cells": [
  {
   "cell_type": "code",
   "execution_count": 1,
   "id": "da769901-fb7a-48cf-8bc7-e6cce78acc91",
   "metadata": {},
   "outputs": [],
   "source": [
    "import tensorflow as tf\n",
    "from tensorflow import keras\n",
    "import numpy as np\n",
    "import pandas as pd\n",
    "import seaborn as sns\n",
    "import matplotlib.pyplot as plt\n",
    "from tensorflow.keras.models import Sequential\n",
    "from tensorflow.keras.layers import Flatten,Dense,Conv2D,MaxPool2D,Dropout\n",
    "from tensorflow.keras.optimizers import Adam\n",
    "from tensorflow.keras.metrics import categorical_crossentropy\n",
    "from sklearn.metrics import confusion_matrix,classification_report,accuracy_score"
   ]
  },
  {
   "cell_type": "markdown",
   "id": "1cbf90fe-94d5-46a1-a1c4-0a40cc3fd12b",
   "metadata": {},
   "source": [
    "1)"
   ]
  },
  {
   "cell_type": "code",
   "execution_count": 2,
   "id": "39309def-5095-497d-9cc9-b31cca1a3415",
   "metadata": {},
   "outputs": [],
   "source": [
    "mnist_df=tf.keras.datasets.mnist.load_data()"
   ]
  },
  {
   "cell_type": "code",
   "execution_count": 3,
   "id": "e0f9aa66-9023-4709-a13e-b1f7dcf68061",
   "metadata": {},
   "outputs": [],
   "source": [
    "(X_train, y_train), (X_test, y_test)=mnist_df #untuple the data first"
   ]
  },
  {
   "cell_type": "code",
   "execution_count": 4,
   "id": "b63fed1e-7028-422d-85dd-22d02a439dd4",
   "metadata": {},
   "outputs": [
    {
     "data": {
      "text/plain": [
       "((60000, 28, 28), (10000, 28, 28))"
      ]
     },
     "execution_count": 4,
     "metadata": {},
     "output_type": "execute_result"
    }
   ],
   "source": [
    "X_train.shape,X_test.shape"
   ]
  },
  {
   "cell_type": "code",
   "execution_count": 5,
   "id": "fa184d2c-06db-4b3c-9f30-d6bbcafd4fbb",
   "metadata": {},
   "outputs": [],
   "source": [
    "X_full=np.concatenate([X_train,X_test])\n",
    "y_full=np.concatenate([y_train,y_test])"
   ]
  },
  {
   "cell_type": "code",
   "execution_count": 6,
   "id": "ca3cfc44-db01-4365-96e5-9901df2de840",
   "metadata": {},
   "outputs": [
    {
     "data": {
      "text/plain": [
       "((70000, 28, 28), (70000,))"
      ]
     },
     "execution_count": 6,
     "metadata": {},
     "output_type": "execute_result"
    }
   ],
   "source": [
    "X_full.shape,y_full.shape"
   ]
  },
  {
   "cell_type": "code",
   "execution_count": 7,
   "id": "14491466-c589-4317-8579-55b294dc2119",
   "metadata": {},
   "outputs": [],
   "source": [
    "X_full_scaled=X_full/255.0 #scale the full dataset"
   ]
  },
  {
   "cell_type": "code",
   "execution_count": 8,
   "id": "bbb811dc-0767-4f98-b7e4-1ac890f855c0",
   "metadata": {},
   "outputs": [
    {
     "data": {
      "text/plain": [
       "50000"
      ]
     },
     "execution_count": 8,
     "metadata": {},
     "output_type": "execute_result"
    }
   ],
   "source": [
    "train=int((5/7)*X_full_scaled.shape[0]);train"
   ]
  },
  {
   "cell_type": "code",
   "execution_count": 9,
   "id": "e4cd2e6d-dc3d-4bef-a836-51271bfae40d",
   "metadata": {},
   "outputs": [],
   "source": [
    "X_train_scaled=X_full_scaled[:train]\n",
    "y_train=y_full[:train]"
   ]
  },
  {
   "cell_type": "code",
   "execution_count": 10,
   "id": "e503ae2e-77cf-4356-a46a-50063076f029",
   "metadata": {},
   "outputs": [
    {
     "data": {
      "text/plain": [
       "((50000, 28, 28), (50000,))"
      ]
     },
     "execution_count": 10,
     "metadata": {},
     "output_type": "execute_result"
    }
   ],
   "source": [
    "X_train_scaled.shape,y_train.shape"
   ]
  },
  {
   "cell_type": "code",
   "execution_count": 11,
   "id": "8d2b3e85-681d-4867-906b-9ddc578bb6c2",
   "metadata": {},
   "outputs": [
    {
     "data": {
      "text/plain": [
       "10000"
      ]
     },
     "execution_count": 11,
     "metadata": {},
     "output_type": "execute_result"
    }
   ],
   "source": [
    "valid=int((1/7)*X_full_scaled.shape[0]);valid"
   ]
  },
  {
   "cell_type": "code",
   "execution_count": 12,
   "id": "1db4a343-e212-4b6e-ab96-89e53e2d2632",
   "metadata": {},
   "outputs": [],
   "source": [
    "X_valid_scaled=X_full_scaled[train:train+valid]\n",
    "y_valid=y_full[train:train+valid]"
   ]
  },
  {
   "cell_type": "code",
   "execution_count": 13,
   "id": "afa08365-426e-4739-bc1d-0d6457185b61",
   "metadata": {},
   "outputs": [
    {
     "data": {
      "text/plain": [
       "((10000, 28, 28), (10000,))"
      ]
     },
     "execution_count": 13,
     "metadata": {},
     "output_type": "execute_result"
    }
   ],
   "source": [
    "X_valid_scaled.shape,y_valid.shape"
   ]
  },
  {
   "cell_type": "code",
   "execution_count": 14,
   "id": "9432d2bc-2196-4a18-aefd-70abadae360e",
   "metadata": {},
   "outputs": [
    {
     "data": {
      "text/plain": [
       "10000"
      ]
     },
     "execution_count": 14,
     "metadata": {},
     "output_type": "execute_result"
    }
   ],
   "source": [
    "test=int((1/7)*X_full_scaled.shape[0]);test"
   ]
  },
  {
   "cell_type": "code",
   "execution_count": 15,
   "id": "085fbe14-1240-47a6-a928-adb0fbe2c31b",
   "metadata": {},
   "outputs": [],
   "source": [
    "X_test_scaled=X_full_scaled[train+valid:]\n",
    "y_test=y_full[train+valid:]"
   ]
  },
  {
   "cell_type": "code",
   "execution_count": 16,
   "id": "62690b8a-8f3d-4903-b99d-12898f1294d7",
   "metadata": {},
   "outputs": [
    {
     "data": {
      "text/plain": [
       "((10000, 28, 28), (10000,))"
      ]
     },
     "execution_count": 16,
     "metadata": {},
     "output_type": "execute_result"
    }
   ],
   "source": [
    "X_test_scaled.shape,y_test.shape"
   ]
  },
  {
   "cell_type": "code",
   "execution_count": 17,
   "id": "279fab75-7916-4d6d-910c-fd4c73bb7a44",
   "metadata": {},
   "outputs": [
    {
     "data": {
      "text/plain": [
       "array([0, 1, 2, 3, 4, 5, 6, 7, 8, 9], dtype=uint8)"
      ]
     },
     "execution_count": 17,
     "metadata": {},
     "output_type": "execute_result"
    }
   ],
   "source": [
    "np.unique(y_train)"
   ]
  },
  {
   "cell_type": "markdown",
   "id": "143d7dd9-fda5-4d7f-9e27-cc98894c0ad1",
   "metadata": {},
   "source": [
    "2)"
   ]
  },
  {
   "cell_type": "code",
   "execution_count": 18,
   "id": "92e45930-0206-4dc6-bf0e-e96b00de2cfc",
   "metadata": {},
   "outputs": [],
   "source": [
    "def onehot_prep(y):\n",
    "    return(tf.one_hot(y,depth=10,on_value=1.0, off_value=0.0)) #create one hot encoded vectors"
   ]
  },
  {
   "cell_type": "code",
   "execution_count": 19,
   "id": "8cf29038-b313-494f-8ff2-4b6d7f8076e2",
   "metadata": {},
   "outputs": [],
   "source": [
    "y_train_onehot=onehot_prep(y_train)\n",
    "y_valid_onehot=onehot_prep(y_valid)\n",
    "y_test_onehot=onehot_prep(y_test)"
   ]
  },
  {
   "cell_type": "code",
   "execution_count": 20,
   "id": "cd003146-be3b-48dc-b6e8-7de7f25d03e6",
   "metadata": {
    "scrolled": true
   },
   "outputs": [
    {
     "data": {
      "text/plain": [
       "TensorShape([10000, 10])"
      ]
     },
     "execution_count": 20,
     "metadata": {},
     "output_type": "execute_result"
    }
   ],
   "source": [
    "y_valid_onehot.shape"
   ]
  },
  {
   "cell_type": "markdown",
   "id": "4ead3622-39d8-4650-8b81-8991e85573b6",
   "metadata": {},
   "source": [
    "3)"
   ]
  },
  {
   "cell_type": "code",
   "execution_count": 21,
   "id": "7119dc94-50d9-4a10-9987-4cf44f7759f6",
   "metadata": {},
   "outputs": [
    {
     "name": "stderr",
     "output_type": "stream",
     "text": [
      "C:\\Users\\vagelis\\anaconda3\\envs\\MLenv\\Lib\\site-packages\\keras\\src\\layers\\convolutional\\base_conv.py:107: UserWarning: Do not pass an `input_shape`/`input_dim` argument to a layer. When using Sequential models, prefer using an `Input(shape)` object as the first layer in the model instead.\n",
      "  super().__init__(activity_regularizer=activity_regularizer, **kwargs)\n"
     ]
    }
   ],
   "source": [
    "model = Sequential([\n",
    "    Conv2D(filters=8, kernel_size=(5, 5), activation='relu', padding = 'same', input_shape=(28,28,1)),\n",
    "    MaxPool2D(),\n",
    "    Conv2D(filters=16, kernel_size=(3, 3), activation='relu', padding = 'same'),\n",
    "    MaxPool2D(),\n",
    "    Conv2D(filters=32, kernel_size=(3, 3), activation='relu', padding = 'same'),\n",
    "    MaxPool2D(),\n",
    "    Flatten(),\n",
    "    Dropout(0.2),\n",
    "    Dense(units=64, activation='relu'),\n",
    "    Dense(units=32, activation='relu'),\n",
    "    Dense(units=10, activation='softmax')\n",
    "])"
   ]
  },
  {
   "cell_type": "markdown",
   "id": "82bdedca-830d-40d0-a3cc-c501314fe5eb",
   "metadata": {},
   "source": [
    "4)"
   ]
  },
  {
   "cell_type": "code",
   "execution_count": 23,
   "id": "da25e411-2970-4afa-8277-f68629d5993c",
   "metadata": {},
   "outputs": [],
   "source": [
    "model.compile(optimizer=Adam(),loss=\"categorical_crossentropy\",metrics=[\"accuracy\"])"
   ]
  },
  {
   "cell_type": "markdown",
   "id": "439562a9-2428-4652-bb63-a5917276116f",
   "metadata": {},
   "source": [
    "5)"
   ]
  },
  {
   "cell_type": "code",
   "execution_count": 24,
   "id": "e31b1e8e-2612-43e6-9f97-8fe6ad77f2ac",
   "metadata": {},
   "outputs": [],
   "source": [
    "from tensorflow.keras.callbacks import EarlyStopping"
   ]
  },
  {
   "cell_type": "code",
   "execution_count": 25,
   "id": "6ca024ac-fd1d-4381-88a9-a5c2b1b82cbb",
   "metadata": {},
   "outputs": [],
   "source": [
    "callback=EarlyStopping(patience=5,monitor=\"val_loss\")"
   ]
  },
  {
   "cell_type": "code",
   "execution_count": 26,
   "id": "bf9933da-6ed2-44d1-875a-ca47377f6aa7",
   "metadata": {},
   "outputs": [
    {
     "name": "stdout",
     "output_type": "stream",
     "text": [
      "Epoch 1/100\n",
      "\u001b[1m1563/1563\u001b[0m \u001b[32m━━━━━━━━━━━━━━━━━━━━\u001b[0m\u001b[37m\u001b[0m \u001b[1m22s\u001b[0m 12ms/step - accuracy: 0.7935 - loss: 0.6209 - val_accuracy: 0.9766 - val_loss: 0.0784\n",
      "Epoch 2/100\n",
      "\u001b[1m1563/1563\u001b[0m \u001b[32m━━━━━━━━━━━━━━━━━━━━\u001b[0m\u001b[37m\u001b[0m \u001b[1m18s\u001b[0m 12ms/step - accuracy: 0.9698 - loss: 0.0981 - val_accuracy: 0.9831 - val_loss: 0.0591\n",
      "Epoch 3/100\n",
      "\u001b[1m1563/1563\u001b[0m \u001b[32m━━━━━━━━━━━━━━━━━━━━\u001b[0m\u001b[37m\u001b[0m \u001b[1m17s\u001b[0m 11ms/step - accuracy: 0.9755 - loss: 0.0781 - val_accuracy: 0.9861 - val_loss: 0.0488\n",
      "Epoch 4/100\n",
      "\u001b[1m1563/1563\u001b[0m \u001b[32m━━━━━━━━━━━━━━━━━━━━\u001b[0m\u001b[37m\u001b[0m \u001b[1m19s\u001b[0m 12ms/step - accuracy: 0.9803 - loss: 0.0598 - val_accuracy: 0.9864 - val_loss: 0.0461\n",
      "Epoch 5/100\n",
      "\u001b[1m1563/1563\u001b[0m \u001b[32m━━━━━━━━━━━━━━━━━━━━\u001b[0m\u001b[37m\u001b[0m \u001b[1m21s\u001b[0m 14ms/step - accuracy: 0.9843 - loss: 0.0494 - val_accuracy: 0.9870 - val_loss: 0.0461\n",
      "Epoch 6/100\n",
      "\u001b[1m1563/1563\u001b[0m \u001b[32m━━━━━━━━━━━━━━━━━━━━\u001b[0m\u001b[37m\u001b[0m \u001b[1m20s\u001b[0m 13ms/step - accuracy: 0.9843 - loss: 0.0472 - val_accuracy: 0.9889 - val_loss: 0.0368\n",
      "Epoch 7/100\n",
      "\u001b[1m1563/1563\u001b[0m \u001b[32m━━━━━━━━━━━━━━━━━━━━\u001b[0m\u001b[37m\u001b[0m \u001b[1m21s\u001b[0m 13ms/step - accuracy: 0.9865 - loss: 0.0420 - val_accuracy: 0.9902 - val_loss: 0.0343\n",
      "Epoch 8/100\n",
      "\u001b[1m1563/1563\u001b[0m \u001b[32m━━━━━━━━━━━━━━━━━━━━\u001b[0m\u001b[37m\u001b[0m \u001b[1m18s\u001b[0m 12ms/step - accuracy: 0.9890 - loss: 0.0356 - val_accuracy: 0.9910 - val_loss: 0.0354\n",
      "Epoch 9/100\n",
      "\u001b[1m1563/1563\u001b[0m \u001b[32m━━━━━━━━━━━━━━━━━━━━\u001b[0m\u001b[37m\u001b[0m \u001b[1m18s\u001b[0m 11ms/step - accuracy: 0.9891 - loss: 0.0330 - val_accuracy: 0.9900 - val_loss: 0.0333\n",
      "Epoch 10/100\n",
      "\u001b[1m1563/1563\u001b[0m \u001b[32m━━━━━━━━━━━━━━━━━━━━\u001b[0m\u001b[37m\u001b[0m \u001b[1m19s\u001b[0m 12ms/step - accuracy: 0.9899 - loss: 0.0304 - val_accuracy: 0.9905 - val_loss: 0.0348\n",
      "Epoch 11/100\n",
      "\u001b[1m1563/1563\u001b[0m \u001b[32m━━━━━━━━━━━━━━━━━━━━\u001b[0m\u001b[37m\u001b[0m \u001b[1m18s\u001b[0m 11ms/step - accuracy: 0.9902 - loss: 0.0290 - val_accuracy: 0.9921 - val_loss: 0.0312\n",
      "Epoch 12/100\n",
      "\u001b[1m1563/1563\u001b[0m \u001b[32m━━━━━━━━━━━━━━━━━━━━\u001b[0m\u001b[37m\u001b[0m \u001b[1m21s\u001b[0m 12ms/step - accuracy: 0.9911 - loss: 0.0264 - val_accuracy: 0.9923 - val_loss: 0.0376\n",
      "Epoch 13/100\n",
      "\u001b[1m1563/1563\u001b[0m \u001b[32m━━━━━━━━━━━━━━━━━━━━\u001b[0m\u001b[37m\u001b[0m \u001b[1m19s\u001b[0m 12ms/step - accuracy: 0.9917 - loss: 0.0238 - val_accuracy: 0.9898 - val_loss: 0.0384\n",
      "Epoch 14/100\n",
      "\u001b[1m1563/1563\u001b[0m \u001b[32m━━━━━━━━━━━━━━━━━━━━\u001b[0m\u001b[37m\u001b[0m \u001b[1m19s\u001b[0m 12ms/step - accuracy: 0.9925 - loss: 0.0251 - val_accuracy: 0.9921 - val_loss: 0.0310\n",
      "Epoch 15/100\n",
      "\u001b[1m1563/1563\u001b[0m \u001b[32m━━━━━━━━━━━━━━━━━━━━\u001b[0m\u001b[37m\u001b[0m \u001b[1m21s\u001b[0m 13ms/step - accuracy: 0.9929 - loss: 0.0226 - val_accuracy: 0.9930 - val_loss: 0.0286\n",
      "Epoch 16/100\n",
      "\u001b[1m1563/1563\u001b[0m \u001b[32m━━━━━━━━━━━━━━━━━━━━\u001b[0m\u001b[37m\u001b[0m \u001b[1m18s\u001b[0m 12ms/step - accuracy: 0.9927 - loss: 0.0220 - val_accuracy: 0.9917 - val_loss: 0.0324\n",
      "Epoch 17/100\n",
      "\u001b[1m1563/1563\u001b[0m \u001b[32m━━━━━━━━━━━━━━━━━━━━\u001b[0m\u001b[37m\u001b[0m \u001b[1m18s\u001b[0m 11ms/step - accuracy: 0.9933 - loss: 0.0199 - val_accuracy: 0.9930 - val_loss: 0.0290\n",
      "Epoch 18/100\n",
      "\u001b[1m1563/1563\u001b[0m \u001b[32m━━━━━━━━━━━━━━━━━━━━\u001b[0m\u001b[37m\u001b[0m \u001b[1m17s\u001b[0m 11ms/step - accuracy: 0.9934 - loss: 0.0192 - val_accuracy: 0.9927 - val_loss: 0.0288\n",
      "Epoch 19/100\n",
      "\u001b[1m1563/1563\u001b[0m \u001b[32m━━━━━━━━━━━━━━━━━━━━\u001b[0m\u001b[37m\u001b[0m \u001b[1m17s\u001b[0m 11ms/step - accuracy: 0.9930 - loss: 0.0213 - val_accuracy: 0.9920 - val_loss: 0.0313\n",
      "Epoch 20/100\n",
      "\u001b[1m1563/1563\u001b[0m \u001b[32m━━━━━━━━━━━━━━━━━━━━\u001b[0m\u001b[37m\u001b[0m \u001b[1m19s\u001b[0m 12ms/step - accuracy: 0.9938 - loss: 0.0185 - val_accuracy: 0.9932 - val_loss: 0.0281\n",
      "Epoch 21/100\n",
      "\u001b[1m1563/1563\u001b[0m \u001b[32m━━━━━━━━━━━━━━━━━━━━\u001b[0m\u001b[37m\u001b[0m \u001b[1m17s\u001b[0m 11ms/step - accuracy: 0.9939 - loss: 0.0184 - val_accuracy: 0.9913 - val_loss: 0.0356\n",
      "Epoch 22/100\n",
      "\u001b[1m1563/1563\u001b[0m \u001b[32m━━━━━━━━━━━━━━━━━━━━\u001b[0m\u001b[37m\u001b[0m \u001b[1m17s\u001b[0m 11ms/step - accuracy: 0.9943 - loss: 0.0169 - val_accuracy: 0.9924 - val_loss: 0.0329\n",
      "Epoch 23/100\n",
      "\u001b[1m1563/1563\u001b[0m \u001b[32m━━━━━━━━━━━━━━━━━━━━\u001b[0m\u001b[37m\u001b[0m \u001b[1m21s\u001b[0m 13ms/step - accuracy: 0.9944 - loss: 0.0162 - val_accuracy: 0.9901 - val_loss: 0.0313\n",
      "Epoch 24/100\n",
      "\u001b[1m1563/1563\u001b[0m \u001b[32m━━━━━━━━━━━━━━━━━━━━\u001b[0m\u001b[37m\u001b[0m \u001b[1m22s\u001b[0m 14ms/step - accuracy: 0.9938 - loss: 0.0176 - val_accuracy: 0.9915 - val_loss: 0.0381\n",
      "Epoch 25/100\n",
      "\u001b[1m1563/1563\u001b[0m \u001b[32m━━━━━━━━━━━━━━━━━━━━\u001b[0m\u001b[37m\u001b[0m \u001b[1m18s\u001b[0m 12ms/step - accuracy: 0.9949 - loss: 0.0154 - val_accuracy: 0.9906 - val_loss: 0.0412\n"
     ]
    }
   ],
   "source": [
    "history_model = model.fit(X_train_scaled,y_train_onehot, epochs=100, \n",
    "                          validation_data=(X_valid_scaled,y_valid_onehot),callbacks=[callback])"
   ]
  },
  {
   "cell_type": "markdown",
   "id": "65df1f07-995f-41c9-819b-32706a61c1e1",
   "metadata": {},
   "source": [
    "6)"
   ]
  },
  {
   "cell_type": "code",
   "execution_count": 29,
   "id": "636550ec-94e3-49d4-9324-0f4dae2cd23c",
   "metadata": {},
   "outputs": [
    {
     "data": {
      "image/png": "[encoded data removed]",
      "text/plain": [
       "<Figure size 800x500 with 1 Axes>"
      ]
     },
     "metadata": {},
     "output_type": "display_data"
    }
   ],
   "source": [
    "pd.DataFrame(history_model.history).plot(\n",
    "    figsize=(8, 5), xlim=[0, 24], ylim=[0, 1], grid=True, xlabel=\"Epoch\",\n",
    "    style=[\"r--\", \"r--.\", \"b-\", \"b-*\"],linewidth=1)\n",
    "plt.legend(loc=\"upper right\")\n",
    "plt.title(\"Base Model with Early stopping\")\n",
    "plt.show()"
   ]
  },
  {
   "cell_type": "markdown",
   "id": "16ebcb6c-37e7-421b-9718-4e9be80a0ed9",
   "metadata": {},
   "source": [
    "As we can see from the graph our model performs really well both in training and validation,achieving accuracy closed to 100%. Also training and validation losses converge on a value close to zero which means that our model does not overfit."
   ]
  },
  {
   "cell_type": "markdown",
   "id": "1a34f620-545d-4d8e-ba7c-7c9f00e5a95f",
   "metadata": {
    "scrolled": true
   },
   "source": [
    "7)"
   ]
  },
  {
   "cell_type": "code",
   "execution_count": 30,
   "id": "069e9e83-e257-42f5-a081-a6748c6be163",
   "metadata": {},
   "outputs": [
    {
     "name": "stdout",
     "output_type": "stream",
     "text": [
      "\u001b[1m313/313\u001b[0m \u001b[32m━━━━━━━━━━━━━━━━━━━━\u001b[0m\u001b[37m\u001b[0m \u001b[1m2s\u001b[0m 7ms/step\n"
     ]
    }
   ],
   "source": [
    "model_predictions=np.argmax(model.predict(X_test_scaled), axis=1)"
   ]
  },
  {
   "cell_type": "code",
   "execution_count": 31,
   "id": "1b30d212-983f-4643-843b-749275594fb6",
   "metadata": {},
   "outputs": [],
   "source": [
    "cl_report=classification_report(np.argmax(y_test_onehot,axis=-1), model_predictions)"
   ]
  },
  {
   "cell_type": "code",
   "execution_count": 32,
   "id": "5abb1d8f-394d-4678-97ff-1b88fce2c4c9",
   "metadata": {},
   "outputs": [
    {
     "name": "stdout",
     "output_type": "stream",
     "text": [
      "              precision    recall  f1-score   support\n",
      "\n",
      "           0       0.99      1.00      0.99       980\n",
      "           1       1.00      1.00      1.00      1135\n",
      "           2       0.99      0.99      0.99      1032\n",
      "           3       0.99      0.99      0.99      1010\n",
      "           4       0.98      0.99      0.99       982\n",
      "           5       0.99      0.99      0.99       892\n",
      "           6       0.99      0.99      0.99       958\n",
      "           7       0.98      1.00      0.99      1028\n",
      "           8       1.00      0.98      0.99       974\n",
      "           9       0.99      0.98      0.98      1009\n",
      "\n",
      "    accuracy                           0.99     10000\n",
      "   macro avg       0.99      0.99      0.99     10000\n",
      "weighted avg       0.99      0.99      0.99     10000\n",
      "\n"
     ]
    }
   ],
   "source": [
    "print(cl_report)"
   ]
  },
  {
   "cell_type": "code",
   "execution_count": 33,
   "id": "85e374a5-128d-4c17-beea-7e6039aaf09b",
   "metadata": {},
   "outputs": [
    {
     "data": {
      "image/png": "[encoded data removed]",
      "text/plain": [
       "<Figure size 1000x700 with 2 Axes>"
      ]
     },
     "metadata": {},
     "output_type": "display_data"
    }
   ],
   "source": [
    "cm=confusion_matrix(np.argmax(y_test_onehot,axis=-1),model_predictions)\n",
    "cm_matrix = pd.DataFrame(data=cm)\n",
    "plt.figure(figsize=(10,7))\n",
    "ax=sns.heatmap(cm_matrix, annot=True, fmt='d', cmap='YlGnBu')\n",
    "ax.set_title(f\"Confusion matrix for Base model\")\n",
    "plt.xlabel(\"Predicted\")\n",
    "plt.ylabel(\"Actual\")\n",
    "plt.show()"
   ]
  },
  {
   "cell_type": "code",
   "execution_count": 34,
   "id": "b1974572-6fcc-44f6-a226-dc5156108881",
   "metadata": {},
   "outputs": [],
   "source": [
    "test_acc=accuracy_score(np.argmax(y_test_onehot,axis=-1),model_predictions)"
   ]
  },
  {
   "cell_type": "code",
   "execution_count": 39,
   "id": "6c87a940-86ff-4bc2-8e4b-fd28dafc01f7",
   "metadata": {},
   "outputs": [
    {
     "name": "stdout",
     "output_type": "stream",
     "text": [
      "Accuracy Score is 0.9903\n"
     ]
    }
   ],
   "source": [
    "print(f\"Accuracy Score is {test_acc:.4f}\")"
   ]
  },
  {
   "cell_type": "markdown",
   "id": "448ef2dd-9d37-47de-967d-22284d84bf57",
   "metadata": {},
   "source": [
    "As we can see from classification report and accuracy score our model achieves accuracy of approximately 99%."
   ]
  }
 ],
 "metadata": {
  "kernelspec": {
   "display_name": "Python 3 (ipykernel)",
   "language": "python",
   "name": "python3"
  },
  "language_info": {
   "codemirror_mode": {
    "name": "ipython",
    "version": 3
   },
   "file_extension": ".py",
   "mimetype": "text/x-python",
   "name": "python",
   "nbconvert_exporter": "python",
   "pygments_lexer": "ipython3",
   "version": "3.11.5"
  }
 },
 "nbformat": 4,
 "nbformat_minor": 5
}
